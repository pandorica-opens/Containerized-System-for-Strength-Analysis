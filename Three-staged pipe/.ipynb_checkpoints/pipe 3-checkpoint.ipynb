{
 "cells": [
  {
   "cell_type": "code",
   "execution_count": 1,
   "metadata": {},
   "outputs": [
    {
     "name": "stdout",
     "output_type": "stream",
     "text": [
      "['/opt/conda/lib/python3.5/site-packages/numpy']\n"
     ]
    }
   ],
   "source": [
    "import random\n",
    "from OCC.Display.WebGl.x3dom_renderer import *\n",
    "from IPython.display import display, HTML\n",
    "%matplotlib inline\n",
    "caller_id = 0\n",
    "def DisplayShape(shape,\n",
    "                     vertex_shader=None,\n",
    "                     fragment_shader=None,\n",
    "                     export_edges=False,\n",
    "                     color=(random.random(), random.random(), random.random()),\n",
    "                     specular_color=(1, 1, 1),\n",
    "                     shininess=0.9,\n",
    "                     transparency=0.,\n",
    "                     line_color=(0, 0., 0.),\n",
    "                     line_width=2.,\n",
    "                     mesh_quality=1.):\n",
    "        def Show(src=\"<shape><appearance><material diffuseColor='0.603 0.894 0.909'></material></appearance> <box></box></shape>   \", height=400,  width=400):\n",
    "            width=str(width)\n",
    "            height=str(height)\n",
    "            result = \"\"\n",
    "            if(caller_id <2):\n",
    "                result += \" <script type='text/javascript' src='http://www.x3dom.org/download/x3dom.js'> </script>  <link rel='stylesheet' type='text/css' href='http://www.x3dom.org/download/x3dom.css'></link>\"\n",
    "           \n",
    "            result +=\"<div style='height: \"+height+\"px;width: 100%;' id='x3dholder_\"+str(caller_id)+\"'  width='100%' height='\"+height+\"px'><x3d style='height: \"+height+\"px;width: 100%;' id='x3d\"+str(caller_id)+\"' width='100%' height='\"+height+\"px'><scene>\"+src+\"   </scene></x3d> </div>\"\n",
    "            return result\n",
    "        x3d_exporter = X3DExporter(shape, vertex_shader, fragment_shader,\n",
    "                                   export_edges, color,\n",
    "                                   specular_color, shininess, transparency,\n",
    "                                   line_color, line_width, mesh_quality)\n",
    "        x3d_exporter.compute()\n",
    "        tmp = x3d_exporter.to_x3dfile_string()\n",
    "        temp_file_name = \"tmp_\"+str(++caller_id)+\".x3d\"\n",
    "        if os.path.exists(temp_file_name): os.remove(temp_file_name)\n",
    "        text_file = open(temp_file_name, \"w\")\n",
    "        text_file.write(tmp)\n",
    "        text_file.close()\n",
    "        return HTML(Show(\"<inline url='./\"+temp_file_name+\"'> </inline> \"))\n",
    "    \n",
    "\n",
    "import numpy\n",
    "print(numpy.__path__)"
   ]
  },
  {
   "cell_type": "code",
   "execution_count": 22,
   "metadata": {},
   "outputs": [
    {
     "data": {
      "text/html": [
       " <script type='text/javascript' src='http://www.x3dom.org/download/x3dom.js'> </script>  <link rel='stylesheet' type='text/css' href='http://www.x3dom.org/download/x3dom.css'></link><div style='height: 400px;width: 100%;' id='x3dholder_0'  width='100%' height='400px'><x3d style='height: 400px;width: 100%;' id='x3d0' width='100%' height='400px'><scene><inline url='./tmp_0.x3d'> </inline>    </scene></x3d> </div>"
      ],
      "text/plain": [
       "<IPython.core.display.HTML object>"
      ]
     },
     "metadata": {},
     "output_type": "display_data"
    },
    {
     "ename": "RuntimeError",
     "evalue": "Standard_ProgramError\nOSD_File::Read : file is not open",
     "output_type": "error",
     "traceback": [
      "\u001b[0;31m---------------------------------------------------------------------------\u001b[0m",
      "\u001b[0;31mRuntimeError\u001b[0m                              Traceback (most recent call last)",
      "\u001b[0;32m<ipython-input-22-2dc9766fc519>\u001b[0m in \u001b[0;36m<module>\u001b[0;34m()\u001b[0m\n\u001b[1;32m     61\u001b[0m \u001b[0mstl_reader\u001b[0m \u001b[0;34m=\u001b[0m \u001b[0mStlAPI_Reader\u001b[0m\u001b[0;34m(\u001b[0m\u001b[0;34m)\u001b[0m\u001b[0;34m\u001b[0m\u001b[0m\n\u001b[1;32m     62\u001b[0m \u001b[0mfan_shp\u001b[0m \u001b[0;34m=\u001b[0m \u001b[0mTopoDS_Shape\u001b[0m\u001b[0;34m(\u001b[0m\u001b[0;34m)\u001b[0m\u001b[0;34m\u001b[0m\u001b[0m\n\u001b[0;32m---> 63\u001b[0;31m \u001b[0mstl_reader\u001b[0m\u001b[0;34m.\u001b[0m\u001b[0mRead\u001b[0m\u001b[0;34m(\u001b[0m\u001b[0mfan_shp\u001b[0m\u001b[0;34m,\u001b[0m \u001b[0mstl_file\u001b[0m\u001b[0;34m)\u001b[0m\u001b[0;34m\u001b[0m\u001b[0m\n\u001b[0m\u001b[1;32m     64\u001b[0m \u001b[0;34m\u001b[0m\u001b[0m\n\u001b[1;32m     65\u001b[0m \u001b[0mexproted\u001b[0m \u001b[0;34m=\u001b[0m \u001b[0mDisplayShape\u001b[0m\u001b[0;34m(\u001b[0m\u001b[0mfan_shp\u001b[0m\u001b[0;34m)\u001b[0m\u001b[0;34m\u001b[0m\u001b[0m\n",
      "\u001b[0;31mRuntimeError\u001b[0m: Standard_ProgramError\nOSD_File::Read : file is not open"
     ]
    }
   ],
   "source": [
    "import os\n",
    "from OCC.StlAPI import StlAPI_Writer\n",
    "from OCC.BRepAlgoAPI import BRepAlgoAPI_Cut\n",
    "from OCC.BRepPrimAPI import BRepPrimAPI_MakeCylinder\n",
    "from OCC.BRepMesh import BRepMesh_IncrementalMesh\n",
    "from OCC.gp import gp_Pnt, gp_Ax2, gp_Dir, gp_Circ\n",
    "from OCC.GeomAPI import GeomAPI_PointsToBSpline\n",
    "from OCC.TColgp import TColgp_Array1OfPnt\n",
    "from OCC.BRepBuilderAPI import BRepBuilderAPI_MakeEdge, BRepBuilderAPI_MakeWire, BRepBuilderAPI_MakeFace\n",
    "from OCC.BRepOffsetAPI import BRepOffsetAPI_MakePipe\n",
    "\n",
    "# first, create the shape\n",
    "def pipe(point1, point2):\n",
    "    makeWire = BRepBuilderAPI_MakeWire()\n",
    "    edge = BRepBuilderAPI_MakeEdge(point1, point2).Edge()\n",
    "    makeWire.Add(edge)\n",
    "    makeWire.Build()\n",
    "    wire = makeWire.Wire()\n",
    "\n",
    "    dir = gp_Dir(point2.X() - point1.X(), point2.Y() - point1.Y(), point2.Z() - point1.Z())\n",
    "    circle = gp_Circ(gp_Ax2(point1,dir), 0.2)\n",
    "    profile_edge = BRepBuilderAPI_MakeEdge(circle).Edge()\n",
    "    profile_wire = BRepBuilderAPI_MakeWire(profile_edge).Wire()\n",
    "    profile_face = BRepBuilderAPI_MakeFace(profile_wire).Face()\n",
    "    pipe = BRepOffsetAPI_MakePipe(wire, profile_face).Shape()\n",
    "    return(pipe)\n",
    "\n",
    "if __name__ == '__main__':\n",
    "    pipe(gp_Pnt(0,0,0), gp_Pnt(0,0,100))\n",
    "    pipe(gp_Pnt(0,0,10), gp_Pnt(0,10,20))     \n",
    "    pipe(gp_Pnt(0,10,20), gp_Pnt(0,20,20))\n",
    "    \n",
    "#my_cylinder1 = BRepPrimAPI_MakeCylinder(10., 100.).Shape()\n",
    "#my_cylinder2 = BRepPrimAPI_MakeCylinder(8., 100.).Shape()\n",
    "#my_cut = BRepAlgoAPI_Cut(my_cylinder1, my_cylinder2).Shape()\n",
    "\n",
    "geometry = DisplayShape(pipe(gp_Pnt(0,0,0), gp_Pnt(0,0,100)))\n",
    "\n",
    "display(geometry)\n",
    "\n",
    "# then mesh it. This mesh is used by the STL exporter\n",
    "# Note : if the mesh is not performed, the STL exporter\n",
    "# won't do nothing\n",
    "mesh = BRepMesh_IncrementalMesh(pipe(gp_Pnt(0,0,0), gp_Pnt(0,0,100)), 0.6)\n",
    "mesh.Perform()\n",
    "\n",
    "stl_file = \"./sphere_low_resolution2.stl\"\n",
    "stl_exporter = StlAPI_Writer()\n",
    "stl_exporter.SetASCIIMode(True)  # change to False if you need binary export\n",
    "stl_exporter.Write(pipe(gp_Pnt(0,0,0), gp_Pnt(0,0,100)), stl_file)\n",
    "\n",
    "\n",
    "# then we change the mesh resolution\n",
    "#mesh.SetDeflection(0.05)\n",
    "\n",
    "\n",
    "from OCC.Display.SimpleGui import init_display\n",
    "from OCC.TopoDS import TopoDS_Shape\n",
    "from OCC.StlAPI import StlAPI_Reader\n",
    "\n",
    "stl_reader = StlAPI_Reader()\n",
    "fan_shp = TopoDS_Shape()\n",
    "stl_reader.Read(fan_shp, stl_file)\n",
    "\n",
    "exproted = DisplayShape(fan_shp)\n",
    "display(exproted)"
   ]
  },
  {
   "cell_type": "code",
   "execution_count": null,
   "metadata": {
    "collapsed": true
   },
   "outputs": [],
   "source": []
  }
 ],
 "metadata": {
  "kernelspec": {
   "display_name": "Python 3",
   "language": "python",
   "name": "python3"
  },
  "language_info": {
   "codemirror_mode": {
    "name": "ipython",
    "version": 3
   },
   "file_extension": ".py",
   "mimetype": "text/x-python",
   "name": "python",
   "nbconvert_exporter": "python",
   "pygments_lexer": "ipython3",
   "version": "3.5.4"
  }
 },
 "nbformat": 4,
 "nbformat_minor": 2
}
